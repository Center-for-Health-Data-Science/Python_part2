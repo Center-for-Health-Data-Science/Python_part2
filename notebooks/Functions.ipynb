{
 "cells": [
  {
   "cell_type": "markdown",
   "metadata": {
    "id": "CZGKlScEJ57p"
   },
   "source": [
    "<img src=\"https://github.com/Center-for-Health-Data-Science/PythonTsunami/blob/spring2022/figures/HeaDS_logo_large_withTitle.png?raw=1\" width=\"300\">\n",
    "\n",
    "\n",
    "\n",
    "<img src=\"https://github.com/Center-for-Health-Data-Science/PythonTsunami/blob/spring2022/figures/tsunami_logo.PNG?raw=1\" width=\"600\">\n"
   ]
  },
  {
   "cell_type": "markdown",
   "metadata": {
    "id": "XJNBhbJ1J57t"
   },
   "source": [
    "# Generalizing Code with Functions\n"
   ]
  },
  {
   "cell_type": "markdown",
   "metadata": {
    "id": "aWOOEYHZRbAA"
   },
   "source": [
    "*prepared by [Katarina Nastou](https://www.cpr.ku.dk/staff/?pure=en/persons/672471) and [Rita Colaço](https://www.cpr.ku.dk/staff/?id=621366&vis=medarbejder) and edited by [Henrike Zschach](https://kunet.ku.dk/oevrige/telefonbog/Telefonbogsdetaljer?upname=pnv719)*"
   ]
  },
  {
   "cell_type": "markdown",
   "metadata": {
    "id": "1i8BaZKDRS41"
   },
   "source": [
    "## Objectives\n",
    "\n",
    "* Describe what a function is and how it is useful\n",
    "* Understand how to handle input to functions\n",
    "* Understand how to use keyword arguments when calling functions\n",
    "* Explain exactly what the return keyword does and some of the side effects when using it\n",
    "* Understand how scope works in a function\n"
   ]
  },
  {
   "cell_type": "markdown",
   "metadata": {
    "id": "9lTsFLhdJ57x"
   },
   "source": [
    "## What is a function?\n",
    "\n",
    "You can think of functions like 'mini-programs' that take input do something to it. Often this will result in an output (but not always):\n",
    "\n",
    "**Input -> [Function processes input] (-> Output)**\n",
    "\n",
    "You have probably already used functions such as `print()` and `int()`. We call these functions _built-in_ since they already exist in python.\n",
    "\n",
    "The function `print` for example takes an input and evaluates it, then displays the result in the console."
   ]
  },
  {
   "cell_type": "code",
   "execution_count": null,
   "metadata": {
    "colab": {
     "base_uri": "https://localhost:8080/"
    },
    "executionInfo": {
     "elapsed": 4,
     "status": "ok",
     "timestamp": 1675092805971,
     "user": {
      "displayName": "Henrike Zschach",
      "userId": "10873369072901591129"
     },
     "user_tz": -60
    },
    "id": "-muNOyU2Sbsd",
    "outputId": "cde6fe8a-7684-4b7f-bc29-13fe4285ba64"
   },
   "outputs": [
    {
     "name": "stdout",
     "output_type": "stream",
     "text": [
      "23\n"
     ]
    }
   ],
   "source": [
    "my_int = 23\n",
    "print(my_int)\n"
   ]
  },
  {
   "cell_type": "markdown",
   "metadata": {
    "id": "kQjtHDw8UCj5"
   },
   "source": [
    "You can see that `print` evaluates because you can give it expressions as well and it will compute the result:"
   ]
  },
  {
   "cell_type": "code",
   "execution_count": null,
   "metadata": {
    "colab": {
     "base_uri": "https://localhost:8080/"
    },
    "executionInfo": {
     "elapsed": 2,
     "status": "ok",
     "timestamp": 1675092813489,
     "user": {
      "displayName": "Henrike Zschach",
      "userId": "10873369072901591129"
     },
     "user_tz": -60
    },
    "id": "gzgBpqlyTvUT",
    "outputId": "eeb92111-f466-443b-b6e8-dd0c8d553f72"
   },
   "outputs": [
    {
     "name": "stdout",
     "output_type": "stream",
     "text": [
      "28\n"
     ]
    }
   ],
   "source": [
    "print(my_int + 5)"
   ]
  },
  {
   "cell_type": "markdown",
   "metadata": {
    "id": "MPDtUmIsS1jJ"
   },
   "source": [
    "Functions can also be **wrapped** inside other functions!\n",
    "\n",
    "Here we ask for the type of the variable `my_int` by giving it as input to the `type` function. The output will be a string that describes which variable type `my_int` is. We can then print that information by giving it as input to the `print` function.\n",
    "\n",
    "However, we can also do this more directly and without an intermediate variable by wrapping `print` around `type`. In that case, the output of `type` will directly be given to `print` as an input!"
   ]
  },
  {
   "cell_type": "code",
   "execution_count": null,
   "metadata": {
    "colab": {
     "base_uri": "https://localhost:8080/"
    },
    "executionInfo": {
     "elapsed": 3,
     "status": "ok",
     "timestamp": 1675092941165,
     "user": {
      "displayName": "Henrike Zschach",
      "userId": "10873369072901591129"
     },
     "user_tz": -60
    },
    "id": "hMDf9hjAS1-g",
    "outputId": "ea0cb267-8510-4f1a-96d5-f9c07daa219f"
   },
   "outputs": [
    {
     "name": "stdout",
     "output_type": "stream",
     "text": [
      "<class 'int'>\n",
      "<class 'int'>\n"
     ]
    }
   ],
   "source": [
    "type_of_var = type(my_int)\n",
    "print(type_of_var)\n",
    "\n",
    "print(type(my_int))"
   ]
  },
  {
   "cell_type": "markdown",
   "metadata": {
    "id": "g7y5dVO3UmoK"
   },
   "source": [
    "## User defined functions"
   ]
  },
  {
   "cell_type": "markdown",
   "metadata": {
    "id": "J1SnR_CjR-eQ"
   },
   "source": [
    "We can define our own functions using the keyword `def`! Here we have a user defined function:"
   ]
  },
  {
   "cell_type": "code",
   "execution_count": null,
   "metadata": {
    "id": "WJBhUwqILcnn"
   },
   "outputs": [],
   "source": [
    "#define the function\n",
    "def say_hi():\n",
    "    print('Hi!')"
   ]
  },
  {
   "cell_type": "markdown",
   "metadata": {
    "id": "p3xUQ6tvkE6_"
   },
   "source": [
    "User defined functions always start with the keyword `def`, followed by a pair of parentheses and a colon. The code inside a function must be indented, just like the code inside a loop. This is the way python knows which code is part of the function since we don't wrap bracets around it.\n",
    "\n",
    "You execute the function by writing its name followed by a pair of parentheses."
   ]
  },
  {
   "cell_type": "code",
   "execution_count": null,
   "metadata": {
    "colab": {
     "base_uri": "https://localhost:8080/"
    },
    "executionInfo": {
     "elapsed": 483,
     "status": "ok",
     "timestamp": 1651239406593,
     "user": {
      "displayName": "Henrike Zschach",
      "userId": "10873369072901591129"
     },
     "user_tz": -120
    },
    "id": "CXfESZMgLfiA",
    "outputId": "4525c668-97c4-4d86-a735-3e8bc81fa30d"
   },
   "outputs": [
    {
     "name": "stdout",
     "output_type": "stream",
     "text": [
      "Hi!\n"
     ]
    }
   ],
   "source": [
    "#execute/call the function\n",
    "say_hi()"
   ]
  },
  {
   "cell_type": "markdown",
   "metadata": {
    "id": "09iLQ48BJ57y"
   },
   "source": [
    "Why use functions?\n",
    "\n",
    "There are several motivations behind using functions:\n",
    "\n",
    "* simplification\n",
    "* generalization\n",
    "* repurposing\n",
    "\n",
    "They are **references** to the block of code we assign to them:\n",
    "\n",
    "```python\n",
    "def say_hi():\n",
    "  print('Hi!')\n",
    "```\n",
    "\n",
    "When we call `say_hi()` what will happen is that the code inside, `print('Hi!')`, will be executed. This is useful because we can put there many lines of code that perform a complex task and execute them repeatedly by calling the name of the function.\n",
    "\n",
    "\n"
   ]
  },
  {
   "cell_type": "markdown",
   "metadata": {
    "id": "nCpeli4ZV4q0"
   },
   "source": [
    "## Input to functions"
   ]
  },
  {
   "cell_type": "markdown",
   "metadata": {
    "id": "-OeSNulrVrbZ"
   },
   "source": [
    "In the example above we haven't passed any input to the function. In fact we haven't defined any input in the `def` line, so this function does not accept any input and **will always do the same**!\n",
    "\n",
    "Try it out:"
   ]
  },
  {
   "cell_type": "code",
   "execution_count": null,
   "metadata": {
    "id": "vnZ-eATbV8Zr"
   },
   "outputs": [],
   "source": [
    "# will give an error:\n",
    "say_hi(5)"
   ]
  },
  {
   "cell_type": "markdown",
   "metadata": {
    "id": "AZ706R66WMwa"
   },
   "source": [
    "Of course a function like that isn't terribly useful. We want to be able to pass information into the function which the function will then process for us.\n",
    "\n",
    "You define what kinds of input the function will accept in the `def` line. You also define what the input variable will be called inside the function (here it is `my_name`)."
   ]
  },
  {
   "cell_type": "code",
   "execution_count": null,
   "metadata": {
    "id": "4aVQbI9lWb9A"
   },
   "outputs": [],
   "source": [
    "def say_hi_to_me(my_name):\n",
    "    print('Hi '+ my_name + '!')"
   ]
  },
  {
   "cell_type": "code",
   "execution_count": null,
   "metadata": {
    "colab": {
     "base_uri": "https://localhost:8080/"
    },
    "executionInfo": {
     "elapsed": 264,
     "status": "ok",
     "timestamp": 1675093623564,
     "user": {
      "displayName": "Henrike Zschach",
      "userId": "10873369072901591129"
     },
     "user_tz": -60
    },
    "id": "w8Ao19s5WoGJ",
    "outputId": "da51ae69-5c9d-4e44-fee3-14dbca37f279"
   },
   "outputs": [
    {
     "name": "stdout",
     "output_type": "stream",
     "text": [
      "Hi Henrike!\n",
      "Hi John!\n"
     ]
    }
   ],
   "source": [
    "say_hi_to_me('Henrike')\n",
    "say_hi_to_me('John')"
   ]
  },
  {
   "cell_type": "markdown",
   "metadata": {
    "id": "HcUELSJhdkyq"
   },
   "source": [
    "You can define as many input parameters as you want:"
   ]
  },
  {
   "cell_type": "code",
   "execution_count": null,
   "metadata": {
    "id": "tno51ThydpMR"
   },
   "outputs": [],
   "source": [
    "def say_hi_many(my_name, times):\n",
    "    for i in range(times):\n",
    "        print('Hi '+ my_name + '!')"
   ]
  },
  {
   "cell_type": "code",
   "execution_count": null,
   "metadata": {
    "colab": {
     "base_uri": "https://localhost:8080/"
    },
    "executionInfo": {
     "elapsed": 5,
     "status": "ok",
     "timestamp": 1675095410786,
     "user": {
      "displayName": "Henrike Zschach",
      "userId": "10873369072901591129"
     },
     "user_tz": -60
    },
    "id": "71q2R8csd2Uj",
    "outputId": "6d9c4c65-d019-4732-f66b-6079e4979f3e"
   },
   "outputs": [
    {
     "name": "stdout",
     "output_type": "stream",
     "text": [
      "Hi Mary!\n",
      "Hi Mary!\n",
      "Hi Mary!\n",
      "Hi Mary!\n",
      "Hi Mary!\n"
     ]
    }
   ],
   "source": [
    "say_hi_many('Mary', 5)"
   ]
  },
  {
   "cell_type": "markdown",
   "metadata": {
    "id": "CJJRn966J58H"
   },
   "source": [
    "## Parameters vs Arguments\n",
    "\n",
    "Formally, the input you give to a function when you **execute** it is is called an __argument__. It is the actual information we want the function to work on.\n",
    "\n",
    "```python\n",
    "say_hi_to_me('John')\n",
    "```\n",
    "\n",
    "In the above example, `'John'` is the argument. Any value passed to a function is an [argument](https://docs.python.org/3/glossary.html#term-argument).\n",
    "\n",
    "\n"
   ]
  },
  {
   "cell_type": "markdown",
   "metadata": {
    "id": "VzqKsPzab-9P"
   },
   "source": [
    "What are __parameters__?\n",
    "\n",
    "[Parameters ](https://docs.python.org/3/glossary.html#term-parameter) are the names that we want to use inside the function. They appear in the function definition:\n",
    "\n",
    "```python\n",
    "def say_hi_to_me(my_name):\n",
    "    print('Hi '+ my_name + '!')\n",
    "```\n",
    "\n",
    "So in the code example below, `my_name` is the parameter and `'John'` is the argument I pass to that parameter when I call the function:\n"
   ]
  },
  {
   "cell_type": "code",
   "execution_count": null,
   "metadata": {
    "id": "5Ep-YsbRJ58I"
   },
   "outputs": [],
   "source": [
    "def say_hi_to_me(my_name):\n",
    "    print('Hi '+ my_name + '!')"
   ]
  },
  {
   "cell_type": "code",
   "execution_count": null,
   "metadata": {
    "colab": {
     "base_uri": "https://localhost:8080/"
    },
    "executionInfo": {
     "elapsed": 3,
     "status": "ok",
     "timestamp": 1675095017391,
     "user": {
      "displayName": "Henrike Zschach",
      "userId": "10873369072901591129"
     },
     "user_tz": -60
    },
    "id": "GgR9WcjWJ58I",
    "outputId": "a4806659-c29b-41f5-94f9-cf44940ae342"
   },
   "outputs": [
    {
     "name": "stdout",
     "output_type": "stream",
     "text": [
      "Hi John!\n"
     ]
    }
   ],
   "source": [
    "say_hi_to_me('John')"
   ]
  },
  {
   "cell_type": "markdown",
   "metadata": {
    "id": "gcs9alc6J58J"
   },
   "source": [
    "You can also think of it as the argument as being the actual value and the parameter being its alias.\n",
    "\n",
    "Some more examples:\n",
    "https://docs.python.org/3/faq/programming.html#faq-argument-vs-parameter"
   ]
  },
  {
   "cell_type": "markdown",
   "metadata": {
    "id": "0xd3MrpyJ585"
   },
   "source": [
    "## Exercise 1 (5 mins)\n",
    "\n",
    "#### My first function\n",
    "\n",
    "Write a function that takes a number as input (don't worry about checking for variable type right now!) and calculates the square root of this number. Print the result.\n",
    "\n",
    "You can use `math.sqrt()` for the calculation. Remember to `import math`.\n",
    "\n",
    "Test it with different inputs. What happens when you provide no input?"
   ]
  },
  {
   "cell_type": "code",
   "execution_count": null,
   "metadata": {
    "id": "-Q4T0Bi1J585"
   },
   "outputs": [],
   "source": [
    "# your code here"
   ]
  },
  {
   "cell_type": "code",
   "execution_count": null,
   "metadata": {
    "id": "iEFd2MsoJ586"
   },
   "outputs": [],
   "source": [
    "# test the function"
   ]
  },
  {
   "cell_type": "markdown",
   "metadata": {
    "id": "NhadA4q5sdt7"
   },
   "source": [
    "In the example of the function you just wrote, what are the parameters and what are the arguments?"
   ]
  },
  {
   "cell_type": "markdown",
   "metadata": {
    "id": "b10STM9ZJ58S"
   },
   "source": [
    "## Keyword arguments\n",
    "\n",
    "In functions with several parameters, how does the function decide with supplied argument should be assigned to which parameter?"
   ]
  },
  {
   "cell_type": "code",
   "execution_count": null,
   "metadata": {
    "id": "rmkuov3AgPnI"
   },
   "outputs": [],
   "source": [
    "def say_hi_many(my_name, times):\n",
    "    for i in range(times):\n",
    "        print('Hi '+ my_name + '!')"
   ]
  },
  {
   "cell_type": "code",
   "execution_count": null,
   "metadata": {
    "colab": {
     "base_uri": "https://localhost:8080/"
    },
    "executionInfo": {
     "elapsed": 3,
     "status": "ok",
     "timestamp": 1675096063892,
     "user": {
      "displayName": "Henrike Zschach",
      "userId": "10873369072901591129"
     },
     "user_tz": -60
    },
    "id": "5fz9oQGugG1B",
    "outputId": "dd6538cb-f396-496e-d88c-c61082c6ddd4"
   },
   "outputs": [
    {
     "name": "stdout",
     "output_type": "stream",
     "text": [
      "Hi Mary!\n",
      "Hi Mary!\n",
      "Hi Mary!\n",
      "Hi Mary!\n",
      "Hi Mary!\n"
     ]
    }
   ],
   "source": [
    "say_hi_many('Mary', 5)"
   ]
  },
  {
   "cell_type": "code",
   "execution_count": null,
   "metadata": {
    "id": "KmjIfZSIgZKX"
   },
   "outputs": [],
   "source": [
    "#What will happen if I switch them around?\n",
    "say_hi_many(5, 'Mary')"
   ]
  },
  {
   "cell_type": "markdown",
   "metadata": {
    "id": "0gEQl9eDJ58W"
   },
   "source": [
    "\n",
    "\n",
    "By default, arguments are positional-or-keyword. The first argument given will be assigned to the first parameter defined:\n",
    "\n",
    "In this example:\n",
    "\n",
    "```python\n",
    "def say_hi_many(my_name, times):\n",
    "    for i in range(times):\n",
    "        print('Hi '+ my_name + '!')\n",
    "```\n",
    "\n",
    "If you call `say_hi_many(5, 'Mary')` the parameter `my_name` will take the value 5 and the parameter `times` will take the value 'Mary' since they are specified in that order in the function definition.\n",
    "\n",
    "You can avoid this behavior by explicitly stating which parameter belongs to which argument with the `=` sign:\n"
   ]
  },
  {
   "cell_type": "code",
   "execution_count": null,
   "metadata": {
    "colab": {
     "base_uri": "https://localhost:8080/"
    },
    "executionInfo": {
     "elapsed": 342,
     "status": "ok",
     "timestamp": 1675096272116,
     "user": {
      "displayName": "Henrike Zschach",
      "userId": "10873369072901591129"
     },
     "user_tz": -60
    },
    "id": "5fYJutiQhIWA",
    "outputId": "dcaf4b59-464a-4331-cc6e-2cad54d44a41"
   },
   "outputs": [
    {
     "name": "stdout",
     "output_type": "stream",
     "text": [
      "Hi Mary!\n",
      "Hi Mary!\n",
      "Hi Mary!\n",
      "Hi Mary!\n",
      "Hi Mary!\n"
     ]
    }
   ],
   "source": [
    "say_hi_many(times=5, my_name='Mary')"
   ]
  },
  {
   "cell_type": "markdown",
   "metadata": {
    "id": "S_WZrIR_hQBx"
   },
   "source": [
    "We call this a **keyword argument**. Passing parameters like this is always **cleaner** since others may not know in which order they were mentioned in the `def` line."
   ]
  },
  {
   "cell_type": "markdown",
   "metadata": {
    "id": "rjfst3zRJ58P"
   },
   "source": [
    "## Default arguments\n",
    "\n",
    "When we define an input parameter in our function we cannot call the function without passing an argument to that parameter. This can be circumvented by using `=` to define a default value the parameter should take if no input was given.\n",
    "\n",
    "Default arguments can also be called optional arguments since there is no need to specify values for them when you call a function."
   ]
  },
  {
   "cell_type": "code",
   "execution_count": null,
   "metadata": {
    "id": "LvZOFR24dSWn"
   },
   "outputs": [],
   "source": [
    "def say_hi_to_me(my_name = 'John Doe'):\n",
    "    print('Hi '+ my_name + '!')"
   ]
  },
  {
   "cell_type": "code",
   "execution_count": null,
   "metadata": {
    "colab": {
     "base_uri": "https://localhost:8080/"
    },
    "executionInfo": {
     "elapsed": 3,
     "status": "ok",
     "timestamp": 1675262847690,
     "user": {
      "displayName": "Henrike Zschach",
      "userId": "10873369072901591129"
     },
     "user_tz": -60
    },
    "id": "upMFyY16da1X",
    "outputId": "1d66fff9-bbb2-485c-93e7-d3a4bf95994b"
   },
   "outputs": [
    {
     "name": "stdout",
     "output_type": "stream",
     "text": [
      "Hi John Doe!\n",
      "Hi Henrike!\n"
     ]
    }
   ],
   "source": [
    "# test it:\n",
    "\n",
    "say_hi_to_me()\n",
    "say_hi_to_me('Henrike')"
   ]
  },
  {
   "cell_type": "markdown",
   "metadata": {
    "id": "jVLvCy_dJ58Y"
   },
   "source": [
    "This is not the same as passing a keyword argument.\n",
    "\n",
    "* When you **define** a function and use an `=` you are setting a **default parameter**\n",
    "* When you **call** a function and use an `=` you are passing a **keyword argument**"
   ]
  },
  {
   "cell_type": "markdown",
   "metadata": {
    "id": "zHyrGihBT6Kn"
   },
   "source": [
    "## Exercise 2 (10 mins)\n",
    "\n",
    "Write a function that calculates and prints BMI (body mass index), which is defined as:\n",
    "\n",
    "$BMI = \\frac{m_{kg}}{{h_m}^2} $\n",
    "\n",
    "with:\n",
    "\n",
    "$m_{kg}$ - mass in kilogram\n",
    "\n",
    "$h_m$ - height in meters\n",
    "\n",
    "You can calculate powers in python by using i.e. `my_number**2` for the second power (squaring `my_number`).\n",
    "\n",
    "Supply default values for both arguments."
   ]
  },
  {
   "cell_type": "code",
   "execution_count": null,
   "metadata": {
    "id": "2pgQzvrsCze8"
   },
   "outputs": [],
   "source": []
  },
  {
   "cell_type": "markdown",
   "metadata": {
    "id": "hO0Qy7OfdcDl"
   },
   "source": [
    "## Input: A note on data types\n",
    "\n",
    "The observant participant might have noticed that at no point did we tell python whether the input we are expecting is a string, a number, a boolean or any other defined type.\n",
    "\n",
    "Consider:\n",
    "```python\n",
    "def say_hi_many(my_name, times):\n",
    "    for i in range(times):\n",
    "        print('Hi '+ my_name + '!')\n",
    "```\n",
    "\n",
    "`times` is clearly meant to be an integer, the number of times the function should say hi. `my_name` is clearly supposed to be a string.\n",
    "\n",
    "Why do we not define them so?\n",
    "\n",
    "\n",
    "\n"
   ]
  },
  {
   "cell_type": "markdown",
   "metadata": {
    "id": "mi8UWe5iiHQn"
   },
   "source": [
    "**Because python does [duck typing](https://www.askpython.com/python/oops/duck-typing):**\n",
    "\n",
    "\"*If it walks like a duck, and it quacks like a duck, then it is probably a duck.*\"\n",
    "\n",
    "What does this mean in practise?\n",
    "\n",
    "Duck typing gives more importance to what can be **done** to an object than what the object **is**.\n",
    "\n",
    "Consider the following example:"
   ]
  },
  {
   "cell_type": "code",
   "execution_count": null,
   "metadata": {
    "colab": {
     "base_uri": "https://localhost:8080/"
    },
    "executionInfo": {
     "elapsed": 3,
     "status": "ok",
     "timestamp": 1675264452042,
     "user": {
      "displayName": "Henrike Zschach",
      "userId": "10873369072901591129"
     },
     "user_tz": -60
    },
    "id": "b71DW-UMiR93",
    "outputId": "c1c21caa-e0a2-4ade-c8e3-05f47fbae30b"
   },
   "outputs": [
    {
     "name": "stdout",
     "output_type": "stream",
     "text": [
      "<class 'str'>\n",
      "<class 'list'>\n",
      "<class 'dict'>\n"
     ]
    }
   ],
   "source": [
    "my_name = 'Henrike'\n",
    "my_list = [1, 2, 'Hi', 'Pizza', 3.41]\n",
    "my_dict = {'Monday': 'work', 'Tuesday': 'work', 'Friday': 'beers!'}\n",
    "\n",
    "print(type(my_name))\n",
    "print(type(my_list))\n",
    "print(type(my_dict))\n"
   ]
  },
  {
   "cell_type": "markdown",
   "metadata": {
    "id": "P7BtsuMsjAIo"
   },
   "source": [
    "These three objects are obviously of different types and asking for their `type` confirms this. However, I can call `length` on each of them because even though they are different objects they all meaningfully have a length."
   ]
  },
  {
   "cell_type": "code",
   "execution_count": null,
   "metadata": {
    "colab": {
     "base_uri": "https://localhost:8080/"
    },
    "executionInfo": {
     "elapsed": 209,
     "status": "ok",
     "timestamp": 1675264476356,
     "user": {
      "displayName": "Henrike Zschach",
      "userId": "10873369072901591129"
     },
     "user_tz": -60
    },
    "id": "G8O0qJUTikVn",
    "outputId": "7d78ee11-b637-45a3-e026-e7b59e846de5"
   },
   "outputs": [
    {
     "name": "stdout",
     "output_type": "stream",
     "text": [
      "7\n",
      "5\n",
      "3\n"
     ]
    }
   ],
   "source": [
    "print(len(my_name))\n",
    "print(len(my_list))\n",
    "print(len(my_dict))"
   ]
  },
  {
   "cell_type": "markdown",
   "metadata": {
    "id": "V3SQs6O2i7_Z"
   },
   "source": [
    "If your heart desires further insight into how objects actually work in python I really recommend this post:\n",
    "\n",
    "https://nedbatchelder.com/text/names.html\n"
   ]
  },
  {
   "cell_type": "markdown",
   "metadata": {
    "id": "_biEaTg6jYPu"
   },
   "source": [
    "In python we do not define the type of a variable when we declare it. Instead, if we really need to know we can conduct a type test as shown below.\n",
    "\n",
    "See also:\n",
    "https://stackoverflow.com/questions/43233535/explicitly-define-datatype-in-python-function"
   ]
  },
  {
   "cell_type": "code",
   "execution_count": null,
   "metadata": {
    "id": "fOWnyiIRlTUk"
   },
   "outputs": [],
   "source": [
    "#test whether we get the data types we need:\n",
    "def say_hi_many(my_name, times):\n",
    "    if type(times) == int and type(my_name) == str:\n",
    "        for i in range(times):\n",
    "            print('Hi '+ my_name + '!')\n",
    "    else:\n",
    "        print('Incorrect input types!')"
   ]
  },
  {
   "cell_type": "code",
   "execution_count": null,
   "metadata": {
    "colab": {
     "base_uri": "https://localhost:8080/"
    },
    "executionInfo": {
     "elapsed": 3,
     "status": "ok",
     "timestamp": 1675265185490,
     "user": {
      "displayName": "Henrike Zschach",
      "userId": "10873369072901591129"
     },
     "user_tz": -60
    },
    "id": "QCd3czZtlVGq",
    "outputId": "a73d754c-f103-4e5b-f80d-45d433e5abfc"
   },
   "outputs": [
    {
     "name": "stdout",
     "output_type": "stream",
     "text": [
      "Incorrect input types!\n"
     ]
    }
   ],
   "source": [
    "say_hi_many(4, 'a')"
   ]
  },
  {
   "cell_type": "markdown",
   "metadata": {
    "id": "HX2IPgAcJ58n"
   },
   "source": [
    "## Scope\n",
    "\n",
    "Variables created in functions are scoped inside that function! Consider our example from the start:\n",
    "\n"
   ]
  },
  {
   "cell_type": "code",
   "execution_count": null,
   "metadata": {
    "id": "ozWz45FzYpmv"
   },
   "outputs": [],
   "source": [
    "def say_hi_to_you(your_name):\n",
    "    print('Hi '+ your_name + '!')\n",
    "\n",
    "say_hi_to_you('Henrike')\n",
    "print(your_name)"
   ]
  },
  {
   "cell_type": "markdown",
   "metadata": {
    "id": "dYvyZ-l3Yp7n"
   },
   "source": [
    "The variable `your_name` only exists inside the function. Or more correctly, it is only **defined** within the scope of the function. The global scope has never heard of this variable!"
   ]
  },
  {
   "cell_type": "markdown",
   "metadata": {
    "id": "slQv5FPkJ578"
   },
   "source": [
    "## The `return` statement\n",
    "\n",
    "So far we've been using `print` to make our functions show us their results. However, if you think back to the beginning at the lecture we said that functions can produce output.\n",
    "\n",
    "This output is the **return value**. We define return values with the `return` statement and capture them with the assignment operator `=`:\n",
    "\n",
    "```python\n",
    "def my_function(input1, input2):\n",
    "    result = input1 + input2\n",
    "    return result\n",
    "\n",
    "my_output_var = my_function(input1, input2)\n",
    "```"
   ]
  },
  {
   "cell_type": "code",
   "execution_count": null,
   "metadata": {
    "id": "xk5R2tiCmcMA"
   },
   "outputs": [],
   "source": [
    "def add_three(my_int):\n",
    "  return my_int + 3"
   ]
  },
  {
   "cell_type": "code",
   "execution_count": null,
   "metadata": {
    "colab": {
     "base_uri": "https://localhost:8080/"
    },
    "executionInfo": {
     "elapsed": 229,
     "status": "ok",
     "timestamp": 1675265717260,
     "user": {
      "displayName": "Henrike Zschach",
      "userId": "10873369072901591129"
     },
     "user_tz": -60
    },
    "id": "77_Yzp1vmq4C",
    "outputId": "c99c3fc5-d8f3-4776-83f3-2fce362d5d5a"
   },
   "outputs": [
    {
     "name": "stdout",
     "output_type": "stream",
     "text": [
      "8\n"
     ]
    }
   ],
   "source": [
    "my_result = add_three(5)\n",
    "print(my_result)"
   ]
  },
  {
   "cell_type": "markdown",
   "metadata": {
    "id": "LO_BV3xNnDtI"
   },
   "source": [
    "The reason we want to use `return` instead of just printing the result is that we can keep working with the return value. It is captured in a variable.\n",
    "\n",
    "In truth all functions in python have a return value, even if you do not specify `return`. In that case, they will return the `None` object."
   ]
  },
  {
   "cell_type": "code",
   "execution_count": null,
   "metadata": {
    "colab": {
     "base_uri": "https://localhost:8080/"
    },
    "executionInfo": {
     "elapsed": 195,
     "status": "ok",
     "timestamp": 1675265881228,
     "user": {
      "displayName": "Henrike Zschach",
      "userId": "10873369072901591129"
     },
     "user_tz": -60
    },
    "id": "SolxWdm1n9Jf",
    "outputId": "fa7e80b6-a9d0-4ab9-db17-f9430e506d25"
   },
   "outputs": [
    {
     "name": "stdout",
     "output_type": "stream",
     "text": [
      "Hi Henrike!\n",
      "None\n"
     ]
    }
   ],
   "source": [
    "def say_hi_to_me(my_name = 'John Doe'):\n",
    "    print('Hi '+ my_name + '!')\n",
    "\n",
    "my_result = say_hi_to_me('Henrike')\n",
    "print(my_result)\n"
   ]
  },
  {
   "cell_type": "markdown",
   "metadata": {
    "id": "2V5z2PXzm8ci"
   },
   "source": [
    "When Python encounters a `return` statement, it exits the function **immediately**, and passes the value on the right hand side to the calling context. Code that follows after the `return` statement is not executed!"
   ]
  },
  {
   "cell_type": "code",
   "execution_count": null,
   "metadata": {
    "id": "dNjS2WpMnnvy"
   },
   "outputs": [],
   "source": [
    "def add_three(my_int):\n",
    "  return my_int + 3\n",
    "  print('Yo!')"
   ]
  },
  {
   "cell_type": "code",
   "execution_count": null,
   "metadata": {
    "colab": {
     "base_uri": "https://localhost:8080/"
    },
    "executionInfo": {
     "elapsed": 193,
     "status": "ok",
     "timestamp": 1675265903312,
     "user": {
      "displayName": "Henrike Zschach",
      "userId": "10873369072901591129"
     },
     "user_tz": -60
    },
    "id": "tEfZh8oXnr29",
    "outputId": "5ead1862-a527-4773-b620-f993d81f8da3"
   },
   "outputs": [
    {
     "name": "stdout",
     "output_type": "stream",
     "text": [
      "8\n"
     ]
    }
   ],
   "source": [
    "my_result = add_three(5)\n",
    "print(my_result)"
   ]
  },
  {
   "cell_type": "markdown",
   "metadata": {
    "id": "hKCkqUkln7To"
   },
   "source": [
    "The same function can incoporate several return statements:"
   ]
  },
  {
   "cell_type": "code",
   "execution_count": null,
   "metadata": {
    "colab": {
     "base_uri": "https://localhost:8080/"
    },
    "executionInfo": {
     "elapsed": 200,
     "status": "ok",
     "timestamp": 1675265912701,
     "user": {
      "displayName": "Henrike Zschach",
      "userId": "10873369072901591129"
     },
     "user_tz": -60
    },
    "id": "_BwqbG_vJ58C",
    "outputId": "f6000a88-4bf8-49d6-e4a8-7c5d5b597020"
   },
   "outputs": [
    {
     "name": "stdout",
     "output_type": "stream",
     "text": [
      "Yes, working hard.\n"
     ]
    }
   ],
   "source": [
    "from datetime import datetime\n",
    "\n",
    "def are_you_working():\n",
    "    #Thursday is day 3, Friday is day 4\n",
    "    if datetime.today().weekday() == 3 or datetime.today().weekday() == 5:\n",
    "        return 'No, am learning python!'\n",
    "    else:\n",
    "        return 'Yes, working hard.'\n",
    "\n",
    "print(are_you_working())\n"
   ]
  },
  {
   "cell_type": "markdown",
   "metadata": {
    "id": "p-ffxXXqJ58D"
   },
   "source": [
    "But you can only ever `return` once! In other words, you can never reach both return statements. The first one that is reached will end the function, no matter what comes after."
   ]
  },
  {
   "cell_type": "markdown",
   "metadata": {
    "id": "TTbqOIZPJ58E"
   },
   "source": [
    "Then how can you return more than one result? Well, you can only encounter one return statement, but the object you return can be complex, i.e. a list, a dict, a tuple. In the examples above we're returning strings. The example below returns a list:"
   ]
  },
  {
   "cell_type": "code",
   "execution_count": null,
   "metadata": {
    "id": "xDnddTZrJ58E"
   },
   "outputs": [],
   "source": [
    "def fun_with_strings(my_string):\n",
    "    my_list = [my_string.upper(), my_string.lower(), my_string[::-1]]\n",
    "    return my_list"
   ]
  },
  {
   "cell_type": "code",
   "execution_count": null,
   "metadata": {
    "colab": {
     "base_uri": "https://localhost:8080/"
    },
    "executionInfo": {
     "elapsed": 366,
     "status": "ok",
     "timestamp": 1651241013475,
     "user": {
      "displayName": "Henrike Zschach",
      "userId": "10873369072901591129"
     },
     "user_tz": -120
    },
    "id": "edD7tXMCJ58F",
    "outputId": "42f5d32e-d54a-4c74-a46d-672c913a40a7"
   },
   "outputs": [
    {
     "data": {
      "text/plain": [
       "['HELLO WORLD!', 'hello world!', '!dlroW olleH']"
      ]
     },
     "execution_count": 15,
     "metadata": {},
     "output_type": "execute_result"
    }
   ],
   "source": [
    "fun_with_strings('Hello World!')"
   ]
  },
  {
   "cell_type": "markdown",
   "metadata": {
    "id": "0PjH2etWJ58G"
   },
   "source": [
    "## Exercise 3 (5 mins)\n",
    "\n",
    "A common return mistake is returning too early in a loop.\n",
    "The following function sums all the even numbers in a list.\n",
    "\n",
    "What is wrong here? Create some test data like `my_list = [1,2,3,4,5,6]` and test the function by calling it on the list: `sum_even_numbers(my_list)`. Do you think the result is correct?\n",
    "How can you change the code to get the correct result?"
   ]
  },
  {
   "cell_type": "code",
   "execution_count": null,
   "metadata": {
    "id": "Sb2QqGwCJ58H"
   },
   "outputs": [],
   "source": [
    "def sum_even_numbers(list_of_numbers):\n",
    "    total = 0\n",
    "    for number in list_of_numbers:\n",
    "        if number % 2 == 0:\n",
    "            total += number\n",
    "        return total"
   ]
  },
  {
   "cell_type": "code",
   "execution_count": null,
   "metadata": {
    "id": "OintC9bmozbq"
   },
   "outputs": [],
   "source": []
  },
  {
   "cell_type": "markdown",
   "metadata": {
    "id": "m37Ky92JJwIJ"
   },
   "source": [
    "## Group Exercise (20 mins)\n",
    "\n",
    "Now, look again at our code from yesterday for making a PCA and producing a biplot. Abstract it where it makes sense and wrap it inside two functions.\n",
    "\n",
    "The first function should:\n",
    "\n",
    "* take in the path to/filename of the dataset to read in, a PCA object, and perhaps other parameters you may want to tweak\n",
    "* return a dataframe of at least the two first PCs and the outcome variable.\n",
    "\n",
    "If you find it easier, you can also choose to create a PCA object inside the function and return both the PCA object and the dataframe. You will need them both to the make the biplot.\n",
    "\n",
    "Then write a second function that:\n",
    "\n",
    "* takes in the PCA object, the dataframe returned from the first function, and perhaps other parameters you may want to tweak\n",
    "* returns the biplot\n",
    "\n"
   ]
  },
  {
   "cell_type": "code",
   "execution_count": null,
   "metadata": {
    "id": "mApF9LyY0E6S"
   },
   "outputs": [],
   "source": []
  }
 ],
 "metadata": {
  "colab": {
   "provenance": [
    {
     "file_id": "15TW7rRufAjHE75OHoF8auWyYWe7MaytC",
     "timestamp": 1702043633908
    },
    {
     "file_id": "https://github.com/Center-for-Health-Data-Science/PythonTsunami/blob/spring2022/Functions/Functions.ipynb",
     "timestamp": 1649404260947
    }
   ],
   "toc_visible": true
  },
  "kernelspec": {
   "display_name": "Python 3",
   "language": "python",
   "name": "python3"
  },
  "language_info": {
   "codemirror_mode": {
    "name": "ipython",
    "version": 3
   },
   "file_extension": ".py",
   "mimetype": "text/x-python",
   "name": "python",
   "nbconvert_exporter": "python",
   "pygments_lexer": "ipython3",
   "version": "3.8.5"
  },
  "rise": {
   "scroll": true
  },
  "toc": {
   "base_numbering": 1,
   "nav_menu": {},
   "number_sections": true,
   "sideBar": true,
   "skip_h1_title": false,
   "title_cell": "Table of Contents",
   "title_sidebar": "Contents",
   "toc_cell": false,
   "toc_position": {
    "height": "calc(100% - 180px)",
    "left": "10px",
    "top": "150px",
    "width": "232.997px"
   },
   "toc_section_display": true,
   "toc_window_display": false
  },
  "toc-autonumbering": true
 },
 "nbformat": 4,
 "nbformat_minor": 0
}
